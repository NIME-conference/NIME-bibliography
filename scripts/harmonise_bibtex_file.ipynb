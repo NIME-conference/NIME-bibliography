{
 "cells": [
  {
   "cell_type": "markdown",
   "metadata": {},
   "source": [
    "# Harmonise Bibtex File\n",
    "\n",
    "This script simply opens and closes a bibtex file in order to alphebetise the ordering of keys and and make sure that it is valid (implicitly I guess--not doing any particular checking, but if the input is broken the bibtexparser will not be happy and the output is most likely to be valid)."
   ]
  },
  {
   "cell_type": "code",
   "execution_count": null,
   "metadata": {},
   "outputs": [],
   "source": [
    "import glob\n",
    "import bibtexparser\n",
    "import utils\n",
    "\n",
    "nime_year = \"2012\"\n",
    "# Load the 2020 bib file and create correct PDF URLs\n",
    "nime_file = f\"../music_proceedings/nime{nime_year}_music.bib\"\n",
    "# nime_file = f\"../installation_proceedings/nime{nime_year}_installations.bib\"\n",
    "# nime_file = f\"../paper_proceedings/nime{nime_year}.bib\"\n",
    "\n",
    "\n",
    "\n",
    "print(f\"Going to load: {nime_file}, is this ok?\")\n",
    "\n",
    "with open(nime_file) as bibtex_file:\n",
    "    bib_database = bibtexparser.bparser.BibTexParser(common_strings=True).parse_file(bibtex_file)\n",
    "    \n",
    "print(f\"Loaded {len(bib_database.entries)} entries.\")"
   ]
  },
  {
   "cell_type": "code",
   "execution_count": null,
   "metadata": {},
   "outputs": [],
   "source": [
    "# set ordering property:\n",
    "# canonical\n",
    "#utils.writer.order_entries_by = (\"articleno\", \"url\", \"ID\")\n",
    "# some proceedings:\n",
    "utils.writer.order_entries_by = (\"ID\")\n",
    "\n",
    "# Write back to the bibtex file\n",
    "with open(nime_file, 'w') as bibtex_file:\n",
    "    bibtex_file.write(utils.writer.write(bib_database))"
   ]
  }
 ],
 "metadata": {
  "kernelspec": {
   "display_name": "Python 3 (ipykernel)",
   "language": "python",
   "name": "python3"
  },
  "language_info": {
   "codemirror_mode": {
    "name": "ipython",
    "version": 3
   },
   "file_extension": ".py",
   "mimetype": "text/x-python",
   "name": "python",
   "nbconvert_exporter": "python",
   "pygments_lexer": "ipython3",
   "version": "3.8.12"
  }
 },
 "nbformat": 4,
 "nbformat_minor": 4
}
