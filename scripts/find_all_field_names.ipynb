{
 "cells": [
  {
   "cell_type": "markdown",
   "metadata": {},
   "source": [
    "# Find all bibtex field names\n",
    "\n",
    "Just to help figure out standard field names, this script gets them from every file in the database and prints out an alphabetised list."
   ]
  },
  {
   "cell_type": "code",
   "execution_count": null,
   "metadata": {},
   "outputs": [],
   "source": [
    "import glob\n",
    "import bibtexparser\n",
    "import pandas as pd\n",
    "\n",
    "bibfiles = []\n",
    "bibdatabases = {}\n",
    "\n",
    "path = \"../paper_proceedings/*.bib\"\n",
    "for file in glob.glob(path):\n",
    "    bibfiles.append(file)\n",
    "path = \"../music_proceedings/*.bib\"\n",
    "for file in glob.glob(path):\n",
    "    bibfiles.append(file)\n",
    "path = \"../installation_proceedings/*.bib\"\n",
    "for file in glob.glob(path):\n",
    "    bibfiles.append(file)\n",
    "    \n",
    "def add_keys(e, k):\n",
    "    e_keys = set(e.keys())\n",
    "    k |= e_keys\n",
    "\n",
    "keys = set()\n",
    "\n",
    "for bf in bibfiles:\n",
    "    print(bf)\n",
    "    with open(bf) as bibtex_file:\n",
    "        bib_database = bibtexparser.bparser.BibTexParser(common_strings=True).parse_file(bibtex_file)\n",
    "    bibdatabases[bf] = bib_database    \n",
    "    for e in bib_database.entries:\n",
    "        add_keys(e, keys)\n",
    "        \n",
    "entry_keys = list(keys)\n",
    "entry_keys.sort()\n",
    "print(\"\\nAnd here's the keys:\\n\")\n",
    "display(entry_keys)"
   ]
  }
 ],
 "metadata": {
  "kernelspec": {
   "display_name": "Python 3 (ipykernel)",
   "language": "python",
   "name": "python3"
  },
  "language_info": {
   "codemirror_mode": {
    "name": "ipython",
    "version": 3
   },
   "file_extension": ".py",
   "mimetype": "text/x-python",
   "name": "python",
   "nbconvert_exporter": "python",
   "pygments_lexer": "ipython3",
   "version": "3.8.12"
  }
 },
 "nbformat": 4,
 "nbformat_minor": 4
}
