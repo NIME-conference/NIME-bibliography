{
 "cells": [
  {
   "cell_type": "markdown",
   "metadata": {},
   "source": [
    "# Fix URLs for 2020\n",
    "\n",
    "This script fixes the URLs for the 2020 bibtex file as provided.\n",
    "\n",
    "Only makes sense for fixing one particular bug in the URLs so just kept as reference."
   ]
  },
  {
   "cell_type": "code",
   "execution_count": null,
   "metadata": {},
   "outputs": [],
   "source": [
    "import glob\n",
    "import bibtexparser\n",
    "import pandas as pd\n",
    "\n",
    "nime_paper_filename_prefix = \"nime2020_paper\"\n",
    "nime_paper_filename_postfix = \".pdf\"\n",
    "nime_proceedings_base_url = \"https://www.nime.org/proceedings/\"\n",
    "nime_year = \"2020\"\n",
    "\n",
    "from bibtexparser.bwriter import BibTexWriter\n",
    "writer = BibTexWriter()\n",
    "field_order = (\"author\",\"title\",\"pages\",\"booktitle\",\"editor\",\"year\",\"month\",\"publisher\",\"address\",\"issn\",\"url\",\"presentation-video\", \"abstract\")\n",
    "writer.indent = \"\t\"\n",
    "writer.display_order = field_order"
   ]
  },
  {
   "cell_type": "code",
   "execution_count": null,
   "metadata": {},
   "outputs": [],
   "source": [
    "# Load the 2020 bib file and create correct PDF URLs\n",
    "nime_2020_file = \"../paper_proceedings/nime2020.bib\"\n",
    "\n",
    "with open(nime_2020_file) as bibtex_file:\n",
    "    bib_database = bibtexparser.bparser.BibTexParser(common_strings=True).parse_file(bibtex_file)\n",
    "\n",
    "for e in bib_database.entries:\n",
    "    pdf_file = e['url'][5:]\n",
    "    pdf_url = f\"{nime_proceedings_base_url}{nime_year}/{pdf_file}\"\n",
    "    print(pdf_url)\n",
    "    e['url'] = pdf_url\n",
    "    \n",
    "# Write back to the bibtex file\n",
    "with open(nime_2020_file, 'w') as bibtex_file:\n",
    "    bibtex_file.write(writer.write(bib_database))"
   ]
  }
 ],
 "metadata": {
  "kernelspec": {
   "display_name": "Python 3",
   "language": "python",
   "name": "python3"
  },
  "language_info": {
   "codemirror_mode": {
    "name": "ipython",
    "version": 3
   },
   "file_extension": ".py",
   "mimetype": "text/x-python",
   "name": "python",
   "nbconvert_exporter": "python",
   "pygments_lexer": "ipython3",
   "version": "3.8.5"
  }
 },
 "nbformat": 4,
 "nbformat_minor": 4
}
